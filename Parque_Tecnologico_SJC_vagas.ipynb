{
  "nbformat": 4,
  "nbformat_minor": 0,
  "metadata": {
    "colab": {
      "provenance": [],
      "authorship_tag": "ABX9TyP7UljeVS9NQhK0+Tgfh7rW",
      "include_colab_link": true
    },
    "kernelspec": {
      "name": "python3",
      "display_name": "Python 3"
    },
    "language_info": {
      "name": "python"
    }
  },
  "cells": [
    {
      "cell_type": "markdown",
      "metadata": {
        "id": "view-in-github",
        "colab_type": "text"
      },
      "source": [
        "<a href=\"https://colab.research.google.com/github/camilaafb/camilaafb/blob/main/Parque_Tecnologico_SJC_vagas.ipynb\" target=\"_parent\"><img src=\"https://colab.research.google.com/assets/colab-badge.svg\" alt=\"Open In Colab\"/></a>"
      ]
    },
    {
      "cell_type": "code",
      "execution_count": 1,
      "metadata": {
        "colab": {
          "base_uri": "https://localhost:8080/"
        },
        "collapsed": true,
        "id": "SqU8lXZHG0tf",
        "outputId": "3c1eefd5-06d9-401d-cbf1-0daa87e6c4fe"
      },
      "outputs": [
        {
          "output_type": "stream",
          "name": "stdout",
          "text": [
            "Requirement already satisfied: requests in /usr/local/lib/python3.11/dist-packages (2.32.3)\n",
            "Requirement already satisfied: beautifulsoup4 in /usr/local/lib/python3.11/dist-packages (4.13.4)\n",
            "Requirement already satisfied: pandas in /usr/local/lib/python3.11/dist-packages (2.2.2)\n",
            "Requirement already satisfied: charset-normalizer<4,>=2 in /usr/local/lib/python3.11/dist-packages (from requests) (3.4.2)\n",
            "Requirement already satisfied: idna<4,>=2.5 in /usr/local/lib/python3.11/dist-packages (from requests) (3.10)\n",
            "Requirement already satisfied: urllib3<3,>=1.21.1 in /usr/local/lib/python3.11/dist-packages (from requests) (2.4.0)\n",
            "Requirement already satisfied: certifi>=2017.4.17 in /usr/local/lib/python3.11/dist-packages (from requests) (2025.4.26)\n",
            "Requirement already satisfied: soupsieve>1.2 in /usr/local/lib/python3.11/dist-packages (from beautifulsoup4) (2.7)\n",
            "Requirement already satisfied: typing-extensions>=4.0.0 in /usr/local/lib/python3.11/dist-packages (from beautifulsoup4) (4.13.2)\n",
            "Requirement already satisfied: numpy>=1.23.2 in /usr/local/lib/python3.11/dist-packages (from pandas) (2.0.2)\n",
            "Requirement already satisfied: python-dateutil>=2.8.2 in /usr/local/lib/python3.11/dist-packages (from pandas) (2.9.0.post0)\n",
            "Requirement already satisfied: pytz>=2020.1 in /usr/local/lib/python3.11/dist-packages (from pandas) (2025.2)\n",
            "Requirement already satisfied: tzdata>=2022.7 in /usr/local/lib/python3.11/dist-packages (from pandas) (2025.2)\n",
            "Requirement already satisfied: six>=1.5 in /usr/local/lib/python3.11/dist-packages (from python-dateutil>=2.8.2->pandas) (1.17.0)\n"
          ]
        }
      ],
      "source": [
        "!pip install requests beautifulsoup4 pandas"
      ]
    },
    {
      "cell_type": "code",
      "source": [
        "# Instalar Selenium\n",
        "!pip install selenium\n",
        "\n",
        "# Instalar o ChromeDriver (para Chromium) e o Chromium\n",
        "!apt-get update # Atualiza a lista de pacotes\n",
        "!apt-get install chromium-browser # Instala o navegador Chromium\n",
        "!apt-get install chromium-chromedriver # Instala o driver do Chromium"
      ],
      "metadata": {
        "colab": {
          "base_uri": "https://localhost:8080/"
        },
        "collapsed": true,
        "id": "59bHiBW3H9aL",
        "outputId": "656748bd-f773-41fc-8a20-37b8f66a173c"
      },
      "execution_count": 2,
      "outputs": [
        {
          "output_type": "stream",
          "name": "stdout",
          "text": [
            "Requirement already satisfied: selenium in /usr/local/lib/python3.11/dist-packages (4.33.0)\n",
            "Requirement already satisfied: urllib3~=2.4.0 in /usr/local/lib/python3.11/dist-packages (from urllib3[socks]~=2.4.0->selenium) (2.4.0)\n",
            "Requirement already satisfied: trio~=0.30.0 in /usr/local/lib/python3.11/dist-packages (from selenium) (0.30.0)\n",
            "Requirement already satisfied: trio-websocket~=0.12.2 in /usr/local/lib/python3.11/dist-packages (from selenium) (0.12.2)\n",
            "Requirement already satisfied: certifi>=2025.4.26 in /usr/local/lib/python3.11/dist-packages (from selenium) (2025.4.26)\n",
            "Requirement already satisfied: typing_extensions~=4.13.2 in /usr/local/lib/python3.11/dist-packages (from selenium) (4.13.2)\n",
            "Requirement already satisfied: websocket-client~=1.8.0 in /usr/local/lib/python3.11/dist-packages (from selenium) (1.8.0)\n",
            "Requirement already satisfied: attrs>=23.2.0 in /usr/local/lib/python3.11/dist-packages (from trio~=0.30.0->selenium) (25.3.0)\n",
            "Requirement already satisfied: sortedcontainers in /usr/local/lib/python3.11/dist-packages (from trio~=0.30.0->selenium) (2.4.0)\n",
            "Requirement already satisfied: idna in /usr/local/lib/python3.11/dist-packages (from trio~=0.30.0->selenium) (3.10)\n",
            "Requirement already satisfied: outcome in /usr/local/lib/python3.11/dist-packages (from trio~=0.30.0->selenium) (1.3.0.post0)\n",
            "Requirement already satisfied: sniffio>=1.3.0 in /usr/local/lib/python3.11/dist-packages (from trio~=0.30.0->selenium) (1.3.1)\n",
            "Requirement already satisfied: wsproto>=0.14 in /usr/local/lib/python3.11/dist-packages (from trio-websocket~=0.12.2->selenium) (1.2.0)\n",
            "Requirement already satisfied: pysocks!=1.5.7,<2.0,>=1.5.6 in /usr/local/lib/python3.11/dist-packages (from urllib3[socks]~=2.4.0->selenium) (1.7.1)\n",
            "Requirement already satisfied: h11<1,>=0.9.0 in /usr/local/lib/python3.11/dist-packages (from wsproto>=0.14->trio-websocket~=0.12.2->selenium) (0.16.0)\n",
            "Hit:1 https://cloud.r-project.org/bin/linux/ubuntu jammy-cran40/ InRelease\n",
            "Hit:2 https://developer.download.nvidia.com/compute/cuda/repos/ubuntu2204/x86_64  InRelease\n",
            "Hit:3 http://archive.ubuntu.com/ubuntu jammy InRelease\n",
            "Hit:4 http://security.ubuntu.com/ubuntu jammy-security InRelease\n",
            "Hit:5 http://archive.ubuntu.com/ubuntu jammy-updates InRelease\n",
            "Hit:6 http://archive.ubuntu.com/ubuntu jammy-backports InRelease\n",
            "Hit:7 https://r2u.stat.illinois.edu/ubuntu jammy InRelease\n",
            "Hit:8 https://ppa.launchpadcontent.net/deadsnakes/ppa/ubuntu jammy InRelease\n",
            "Hit:9 https://ppa.launchpadcontent.net/graphics-drivers/ppa/ubuntu jammy InRelease\n",
            "Hit:10 https://ppa.launchpadcontent.net/ubuntugis/ppa/ubuntu jammy InRelease\n",
            "Reading package lists... Done\n",
            "W: Skipping acquire of configured file 'main/source/Sources' as repository 'https://r2u.stat.illinois.edu/ubuntu jammy InRelease' does not seem to provide it (sources.list entry misspelt?)\n",
            "Reading package lists... Done\n",
            "Building dependency tree... Done\n",
            "Reading state information... Done\n",
            "chromium-browser is already the newest version (1:85.0.4183.83-0ubuntu2.22.04.1).\n",
            "0 upgraded, 0 newly installed, 0 to remove and 103 not upgraded.\n",
            "Reading package lists... Done\n",
            "Building dependency tree... Done\n",
            "Reading state information... Done\n",
            "chromium-chromedriver is already the newest version (1:85.0.4183.83-0ubuntu2.22.04.1).\n",
            "0 upgraded, 0 newly installed, 0 to remove and 103 not upgraded.\n"
          ]
        }
      ]
    },
    {
      "cell_type": "code",
      "source": [
        "!pip install google-colab-selenium"
      ],
      "metadata": {
        "colab": {
          "base_uri": "https://localhost:8080/"
        },
        "collapsed": true,
        "id": "Q9oOJzT1OdLc",
        "outputId": "d188f3c9-5755-4046-c7ff-1f813fe23fc2"
      },
      "execution_count": 3,
      "outputs": [
        {
          "output_type": "stream",
          "name": "stdout",
          "text": [
            "Requirement already satisfied: google-colab-selenium in /usr/local/lib/python3.11/dist-packages (1.0.14)\n",
            "Requirement already satisfied: selenium in /usr/local/lib/python3.11/dist-packages (from google-colab-selenium) (4.33.0)\n",
            "Requirement already satisfied: urllib3~=2.4.0 in /usr/local/lib/python3.11/dist-packages (from urllib3[socks]~=2.4.0->selenium->google-colab-selenium) (2.4.0)\n",
            "Requirement already satisfied: trio~=0.30.0 in /usr/local/lib/python3.11/dist-packages (from selenium->google-colab-selenium) (0.30.0)\n",
            "Requirement already satisfied: trio-websocket~=0.12.2 in /usr/local/lib/python3.11/dist-packages (from selenium->google-colab-selenium) (0.12.2)\n",
            "Requirement already satisfied: certifi>=2025.4.26 in /usr/local/lib/python3.11/dist-packages (from selenium->google-colab-selenium) (2025.4.26)\n",
            "Requirement already satisfied: typing_extensions~=4.13.2 in /usr/local/lib/python3.11/dist-packages (from selenium->google-colab-selenium) (4.13.2)\n",
            "Requirement already satisfied: websocket-client~=1.8.0 in /usr/local/lib/python3.11/dist-packages (from selenium->google-colab-selenium) (1.8.0)\n",
            "Requirement already satisfied: attrs>=23.2.0 in /usr/local/lib/python3.11/dist-packages (from trio~=0.30.0->selenium->google-colab-selenium) (25.3.0)\n",
            "Requirement already satisfied: sortedcontainers in /usr/local/lib/python3.11/dist-packages (from trio~=0.30.0->selenium->google-colab-selenium) (2.4.0)\n",
            "Requirement already satisfied: idna in /usr/local/lib/python3.11/dist-packages (from trio~=0.30.0->selenium->google-colab-selenium) (3.10)\n",
            "Requirement already satisfied: outcome in /usr/local/lib/python3.11/dist-packages (from trio~=0.30.0->selenium->google-colab-selenium) (1.3.0.post0)\n",
            "Requirement already satisfied: sniffio>=1.3.0 in /usr/local/lib/python3.11/dist-packages (from trio~=0.30.0->selenium->google-colab-selenium) (1.3.1)\n",
            "Requirement already satisfied: wsproto>=0.14 in /usr/local/lib/python3.11/dist-packages (from trio-websocket~=0.12.2->selenium->google-colab-selenium) (1.2.0)\n",
            "Requirement already satisfied: pysocks!=1.5.7,<2.0,>=1.5.6 in /usr/local/lib/python3.11/dist-packages (from urllib3[socks]~=2.4.0->selenium->google-colab-selenium) (1.7.1)\n",
            "Requirement already satisfied: h11<1,>=0.9.0 in /usr/local/lib/python3.11/dist-packages (from wsproto>=0.14->trio-websocket~=0.12.2->selenium->google-colab-selenium) (0.16.0)\n"
          ]
        }
      ]
    },
    {
      "cell_type": "code",
      "source": [
        "import pandas as pd\n",
        "import sqlite3\n",
        "import time # Para adicionar delays\n",
        "import google_colab_selenium as gs\n",
        "from selenium import webdriver\n",
        "from selenium.webdriver.common.by import By # Para localizar elementos\n",
        "from selenium.webdriver.chrome.service import Service\n",
        "from selenium.webdriver.chrome.options import Options\n",
        "from selenium.webdriver.support.ui import WebDriverWait\n",
        "from selenium.common.exceptions import WebDriverException, NoSuchElementException, TimeoutException\n",
        "from selenium.webdriver.support import expected_conditions as EC"
      ],
      "metadata": {
        "id": "H5s4g4fFISeP"
      },
      "execution_count": 67,
      "outputs": []
    },
    {
      "cell_type": "code",
      "source": [
        "driver = gs.Chrome()"
      ],
      "metadata": {
        "colab": {
          "base_uri": "https://localhost:8080/",
          "height": 37
        },
        "id": "6D6btbapOlsQ",
        "outputId": "87b4624b-4cf6-4e0b-8abf-a3fd8aca4f4d"
      },
      "execution_count": 57,
      "outputs": [
        {
          "output_type": "display_data",
          "data": {
            "text/plain": [
              "<IPython.core.display.HTML object>"
            ],
            "text/html": [
              "\n",
              "            <div class=\"spinner-container\">\n",
              "                <div class=\"spinner\" id=\"d67a3acd-4627-4ec7-8661-ac370bb94d02-circle\"></div>\n",
              "                <div class=\"spinner-text\" id=\"d67a3acd-4627-4ec7-8661-ac370bb94d02-text\">Initializing Chromedriver</div>\n",
              "            </div>\n",
              "            <style>\n",
              "                @keyframes spin {\n",
              "                    from { transform: rotate(0deg); }\n",
              "                    to { transform: rotate(360deg); }\n",
              "                }\n",
              "\n",
              "                .spinner-container {\n",
              "                    display: flex;\n",
              "                    align-items: center;\n",
              "                    margin-bottom: 3px;\n",
              "                }\n",
              "\n",
              "                .spinner {\n",
              "                    border: 3px solid rgba(0, 0, 0, 0.1);\n",
              "                    border-left-color: lightblue;\n",
              "                    border-radius: 50%;\n",
              "                    width: 12px;\n",
              "                    height: 12px;\n",
              "                    animation: spin 1s linear infinite;\n",
              "                }\n",
              "\n",
              "                .spinner-text {\n",
              "                    padding-left: 6px;\n",
              "                }\n",
              "            </style>\n",
              "        "
            ]
          },
          "metadata": {}
        },
        {
          "output_type": "display_data",
          "data": {
            "text/plain": [
              "<IPython.core.display.Javascript object>"
            ],
            "application/javascript": [
              "\n",
              "            const element = document.getElementById(\"d67a3acd-4627-4ec7-8661-ac370bb94d02-circle\");\n",
              "            element.style.border = \"3px solid limegreen\";\n",
              "            element.style.animation = \"none\";\n",
              "\n",
              "            const text = document.getElementById(\"d67a3acd-4627-4ec7-8661-ac370bb94d02-text\");\n",
              "            text.innerText = \"Initialized Chromedriver\";\n",
              "        "
            ]
          },
          "metadata": {}
        }
      ]
    },
    {
      "cell_type": "code",
      "source": [
        "url_base = 'https://pitsjc.org.br/empresas/'"
      ],
      "metadata": {
        "id": "O92XISHFRuGC"
      },
      "execution_count": 58,
      "outputs": []
    },
    {
      "cell_type": "code",
      "source": [
        "driver.get(url_base)\n",
        "print(driver.title)"
      ],
      "metadata": {
        "colab": {
          "base_uri": "https://localhost:8080/"
        },
        "id": "HsEaAdybRY-_",
        "outputId": "96520f00-c004-4a3b-def2-1583a3d66c02"
      },
      "execution_count": 59,
      "outputs": [
        {
          "output_type": "stream",
          "name": "stdout",
          "text": [
            "Empresas - Parque de Inovação Tecnológica São José dos Campos\n"
          ]
        }
      ]
    },
    {
      "cell_type": "code",
      "source": [
        "# Espera explícita inicial para o primeiro lote de empresas carregar\n",
        "try:\n",
        "    WebDriverWait(driver, 15).until(\n",
        "        EC.presence_of_all_elements_located((By.CLASS_NAME, 'search-filter-ficha'))\n",
        "    )\n",
        "    print(\"Primeiro lote de fichas de empresa carregado.\")\n",
        "except TimeoutException:\n",
        "    print(\"Tempo limite excedido. Nenhuma ficha de empresa encontrada na carga inicial. Verifique a URL ou o seletor.\")\n",
        "    driver.quit()\n",
        "    exit()"
      ],
      "metadata": {
        "colab": {
          "base_uri": "https://localhost:8080/"
        },
        "id": "x_D6Hod3eB-6",
        "outputId": "d02ed5c7-9f26-4b67-be60-2a1390ef88ba"
      },
      "execution_count": 68,
      "outputs": [
        {
          "output_type": "stream",
          "name": "stdout",
          "text": [
            "Primeiro lote de fichas de empresa carregado.\n"
          ]
        }
      ]
    },
    {
      "cell_type": "code",
      "source": [
        "# --- Lógica de Rolagem Infinita ---\n",
        "# A ideia é rolar a página e coletar novas empresas até que nenhuma nova empresa seja carregada\n",
        "last_height = driver.execute_script(\"return document.body.scrollHeight\")\n",
        "scroll_attempts = 0\n",
        "max_scroll_attempts = 100 # Limite para evitar loop infinito em caso de erro\n",
        "\n",
        "while True and scroll_attempts < max_scroll_attempts:\n",
        "    # Rola para o final da página\n",
        "    driver.execute_script(\"window.scrollTo(0, document.body.scrollHeight);\")\n",
        "\n",
        "    # Espera um pouco para o novo conteúdo carregar.\n",
        "    # O tempo pode precisar de ajuste dependendo da velocidade do site.\n",
        "    time.sleep(3)\n",
        "\n",
        "    # Calcula a nova altura da página de rolagem e compara com a última altura\n",
        "    new_height = driver.execute_script(\"return document.body.scrollHeight\")\n",
        "\n",
        "    if new_height == last_height:\n",
        "        # Se a altura não mudou, significa que não há mais conteúdo para carregar\n",
        "        print(\"Fim da página alcançado ou nenhum novo conteúdo carregado.\")\n",
        "        break\n",
        "    else:\n",
        "        last_height = new_height\n",
        "        scroll_attempts += 1\n",
        "        print(f\"Página rolada. Nova altura: {new_height}. Tentativa de rolagem: {scroll_attempts}\")"
      ],
      "metadata": {
        "colab": {
          "base_uri": "https://localhost:8080/"
        },
        "id": "Y0WVqTKgdwbd",
        "outputId": "3d10e0f0-be6f-4567-8b79-1f44529b94f7"
      },
      "execution_count": 69,
      "outputs": [
        {
          "output_type": "stream",
          "name": "stdout",
          "text": [
            "Página rolada. Nova altura: 11398. Tentativa de rolagem: 1\n",
            "Página rolada. Nova altura: 19884. Tentativa de rolagem: 2\n",
            "Página rolada. Nova altura: 28376. Tentativa de rolagem: 3\n",
            "Página rolada. Nova altura: 36874. Tentativa de rolagem: 4\n",
            "Página rolada. Nova altura: 45378. Tentativa de rolagem: 5\n",
            "Página rolada. Nova altura: 53870. Tentativa de rolagem: 6\n",
            "Página rolada. Nova altura: 62368. Tentativa de rolagem: 7\n",
            "Página rolada. Nova altura: 70872. Tentativa de rolagem: 8\n",
            "Página rolada. Nova altura: 79364. Tentativa de rolagem: 9\n",
            "Página rolada. Nova altura: 87856. Tentativa de rolagem: 10\n",
            "Página rolada. Nova altura: 92126. Tentativa de rolagem: 11\n",
            "Página rolada. Nova altura: 96090. Tentativa de rolagem: 12\n",
            "Fim da página alcançado ou nenhum novo conteúdo carregado.\n"
          ]
        }
      ]
    },
    {
      "cell_type": "code",
      "source": [
        "# --- 3. Extrair os dados de TODAS as fichas de empresa após rolar tudo ---\n",
        "# Agora que toda a página (ou o máximo possível) foi carregada, você pode raspar.\n",
        "# Isso é mais eficiente do que raspar a cada rolagem, pois evita duplicatas e\n",
        "# acessa o DOM uma única vez para todos os elementos.\n",
        "\n",
        "lista_empresas = []\n",
        "\n",
        "fichas_empresas = driver.find_elements(By.CLASS_NAME, 'search-filter-ficha')\n",
        "print(f\"Total de fichas de empresa encontradas: {len(fichas_empresas)}\")\n",
        "\n",
        "for ficha_elem in fichas_empresas:\n",
        "  # Extrair nome da empresa\n",
        "  try:\n",
        "      nome_link_elem = ficha_elem.find_element(By.XPATH, \".//div[@class='search-filter-info-empresa']/h4/a\")\n",
        "      nome_empresa = nome_link_elem.text.strip()\n",
        "  except NoSuchElementException:\n",
        "      # Skip this entry if the company name element is not found (unlikely, but good practice)\n",
        "      print(\"Warning: Could not find company name for an entry.\")\n",
        "      continue\n",
        "  # Extrair link do site da empresa\n",
        "  link_website = None # Inicializa com None para o caso de não encontrar o link\n",
        "  try:\n",
        "      link_site_elem = ficha_elem.find_element(By.XPATH, \".//i[@class='fas fa-link']/following-sibling::a\")\n",
        "      link_website = link_site_elem.get_attribute('href')\n",
        "  except NoSuchElementException:\n",
        "      # Se o link do site não for encontrado, link_website permanece None\n",
        "      print(f\"Warning: Could not find website link for company: {nome_empresa}. Setting link to None.\")\n",
        "      pass # Continua a execução mesmo se o link não for encontrado\n",
        "  # Extrair o bloco de informações da empresa para processar a localização\n",
        "  info_div = ficha_elem.find_element(By.CLASS_NAME, 'search-filter-info-empresa')\n",
        "  full_info_text = info_div.text\n",
        "  lines = full_info_text.split('\\n')\n",
        "# Localiza o texto do nome da empresa e o link do site (se presente)\n",
        "  nome_da_empresa_no_texto = nome_empresa\n",
        "  link_do_site_no_texto = link_website\n",
        "\n",
        "  endereco_lines = []\n",
        "  capturing_address = False\n",
        "  for line in lines:\n",
        "      if nome_da_empresa_no_texto in line and not capturing_address:\n",
        "          capturing_address = True # Começa a capturar após o nome da empresa\n",
        "          continue\n",
        "      if capturing_address:\n",
        "          # Verifica se a linha contém um número de telefone ou um link\n",
        "          if '(' in line and ')' in line and (line.replace('(', '').replace(')', '').replace('-', '').replace(' ', '').isdigit() or \"phone\" in line.lower()): # Heurística simples para telefone\n",
        "              break # Chegou no telefone\n",
        "          if 'http://' in line or 'https://' in line:\n",
        "              break # Chegou no link\n",
        "          if 'CEP' in line and line.replace('CEP', '').replace(' ', '').replace('-', '').isdigit():\n",
        "              endereco_lines.append(line.strip())\n",
        "              break # O CEP geralmente é a última linha do endereço\n",
        "\n",
        "          endereco_lines.append(line.strip())\n",
        "\n",
        "  localizacao_empresa = ' '.join(endereco_lines).strip()\n",
        "  # Limpeza adicional para remover quebras de linha e múltiplos espaços\n",
        "  localizacao_empresa = ' '.join(localizacao_empresa.split())\n",
        "  lista_empresas.append({\n",
        "      'Nome da Empresa': nome_empresa,\n",
        "      'Link do Website': link_website,\n",
        "      'Localização': localizacao_empresa\n",
        "      })\n",
        "\n",
        "\n"
      ],
      "metadata": {
        "colab": {
          "base_uri": "https://localhost:8080/"
        },
        "id": "NFoJKqU1ayNs",
        "outputId": "9d96fe2c-0156-4005-8a20-54d72fa0b286"
      },
      "execution_count": 74,
      "outputs": [
        {
          "output_type": "stream",
          "name": "stdout",
          "text": [
            "Total de fichas de empresa encontradas: 439\n",
            "Warning: Could not find website link for company: Ana Cristina. Setting link to None.\n",
            "Warning: Could not find website link for company: Bioenriquece. Setting link to None.\n",
            "Warning: Could not find website link for company: BTV Burguer. Setting link to None.\n",
            "Warning: Could not find website link for company: Casa de Massas Bem-Te-Vi. Setting link to None.\n",
            "Warning: Could not find website link for company: COMPASS. Setting link to None.\n",
            "Warning: Could not find website link for company: Compressor Inteligente. Setting link to None.\n",
            "Warning: Could not find website link for company: DataAgrin. Setting link to None.\n",
            "Warning: Could not find website link for company: Denel do Brasil, Tecnologia Aplicada e Participações. Setting link to None.\n",
            "Warning: Could not find website link for company: DR. LICITA. Setting link to None.\n",
            "Warning: Could not find website link for company: e-Brunch. Setting link to None.\n",
            "Warning: Could not find website link for company: Embrevel. Setting link to None.\n",
            "Warning: Could not find website link for company: END NEVES. Setting link to None.\n",
            "Warning: Could not find website link for company: EngeP&D. Setting link to None.\n",
            "Warning: Could not find website link for company: Fast Food Saudável Bem-Te-Vi. Setting link to None.\n",
            "Warning: Could not find website link for company: Império Panelas e Sabores. Setting link to None.\n",
            "Warning: Could not find website link for company: IOT SENSOR 3D. Setting link to None.\n",
            "Warning: Could not find website link for company: IVIC. Setting link to None.\n",
            "Warning: Could not find website link for company: Legado Circular. Setting link to None.\n",
            "Warning: Could not find website link for company: Meridional Safra Invest. Setting link to None.\n",
            "Warning: Could not find website link for company: Minoica Global Logística. Setting link to None.\n",
            "Warning: Could not find website link for company: New Space Tech. Setting link to None.\n",
            "Warning: Could not find website link for company: Restaurante Donna Pitaya. Setting link to None.\n",
            "Warning: Could not find website link for company: Tecpiezo. Setting link to None.\n",
            "Warning: Could not find website link for company: TOV Café. Setting link to None.\n",
            "Warning: Could not find website link for company: Zé Du Queijo. Setting link to None.\n"
          ]
        }
      ]
    },
    {
      "cell_type": "code",
      "source": [
        "driver.quit()\n",
        "print(\"\\nNavegação concluída e WebDriver encerrado.\")"
      ],
      "metadata": {
        "colab": {
          "base_uri": "https://localhost:8080/"
        },
        "id": "mXmzSKcLboLU",
        "outputId": "81f46769-5d98-4717-fd02-d12463304a5e"
      },
      "execution_count": 76,
      "outputs": [
        {
          "output_type": "stream",
          "name": "stderr",
          "text": [
            "WARNING:urllib3.connectionpool:Retrying (Retry(total=2, connect=None, read=None, redirect=None, status=None)) after connection broken by 'NewConnectionError('<urllib3.connection.HTTPConnection object at 0x7c6e83096ad0>: Failed to establish a new connection: [Errno 111] Connection refused')': /session/2e07176a1133f0dcb70370d9081f6f61\n",
            "WARNING:urllib3.connectionpool:Retrying (Retry(total=1, connect=None, read=None, redirect=None, status=None)) after connection broken by 'NewConnectionError('<urllib3.connection.HTTPConnection object at 0x7c6e8314f490>: Failed to establish a new connection: [Errno 111] Connection refused')': /session/2e07176a1133f0dcb70370d9081f6f61\n",
            "WARNING:urllib3.connectionpool:Retrying (Retry(total=0, connect=None, read=None, redirect=None, status=None)) after connection broken by 'NewConnectionError('<urllib3.connection.HTTPConnection object at 0x7c6e83026f50>: Failed to establish a new connection: [Errno 111] Connection refused')': /session/2e07176a1133f0dcb70370d9081f6f61\n"
          ]
        },
        {
          "output_type": "stream",
          "name": "stdout",
          "text": [
            "\n",
            "Navegação concluída e WebDriver encerrado.\n"
          ]
        }
      ]
    },
    {
      "cell_type": "code",
      "source": [
        "df = pd.DataFrame(lista_empresas)"
      ],
      "metadata": {
        "id": "22RZArEIftSf"
      },
      "execution_count": 77,
      "outputs": []
    },
    {
      "cell_type": "code",
      "source": [
        "df_sjc = df[df['Localização'].str.contains('São José dos Campos', na=False, case=False)].copy()"
      ],
      "metadata": {
        "id": "N4N3BCCQfuTM"
      },
      "execution_count": 79,
      "outputs": []
    },
    {
      "cell_type": "code",
      "source": [
        "df_sjc.to_csv('empresas_com_localizacao_sjc.csv', index=False, encoding='utf-8')\n",
        "print(\"\\nDados salvos em empresas_com_localizacao_sjc.csv\")"
      ],
      "metadata": {
        "colab": {
          "base_uri": "https://localhost:8080/"
        },
        "id": "A2k5L9kPgTha",
        "outputId": "0b775649-277c-4142-cd80-0bc587eddff8"
      },
      "execution_count": 80,
      "outputs": [
        {
          "output_type": "stream",
          "name": "stdout",
          "text": [
            "\n",
            "Dados salvos em empresas_com_localizacao_sjc.csv\n"
          ]
        }
      ]
    },
    {
      "cell_type": "code",
      "source": [
        "\n",
        "\n",
        "df.to_csv('empresas_com_localizacao.csv', index=False, encoding='utf-8')\n",
        "print(\"\\nDados salvos em empresas_com_localizacao.csv\")\n",
        "\n",
        "conn = sqlite3.connect('empresas_com_localizacao.db')\n",
        "df.to_sql('empresas', conn, if_exists='replace', index=False)\n",
        "conn.close()\n",
        "print(\"Dados salvos em empresas_com_localizacao.db (SQLite)\")\n",
        "\n",
        "print(\"\\nPrimeiras 5 linhas do DataFrame:\")\n",
        "print(df.head())"
      ],
      "metadata": {
        "id": "sSdpNn5OfrPo"
      },
      "execution_count": null,
      "outputs": []
    }
  ]
}